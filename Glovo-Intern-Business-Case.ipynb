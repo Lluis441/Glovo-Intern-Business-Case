{
 "cells": [
  {
   "cell_type": "code",
   "execution_count": null,
   "metadata": {},
   "outputs": [],
   "source": [
    "#Install gspread library\n",
    "pip install gspread\n",
    "\n",
    "#Install gspred-dataframe library to work with pandas' DataFrames and Google Sheets\n",
    "pip install gspread-dataframe\n",
    "\n",
    "#Import the libraries\n",
    "import gspread as gspread\n",
    "\n",
    "import pandas as pd\n",
    "\n",
    "import gspread_dataframe as gd\n",
    "\n",
    "#Because the credentials that you gave me didn't work, I created a new one\n",
    "\n",
    "#Get credentials to read the Google Sheet (They are in a JSON in my computer with the name: 'key.json')\n",
    "gc = gspread.service_account(filename='key.json')\n",
    "\n",
    "#Open the Google Sheet\n",
    "sh=gc.open(\"Courier_Growth_Intern_1\")\n",
    "\n",
    "#Select the worksheet, get all values from that worksheet, and put them in a DataFrame using pandas\n",
    "worksheet = sh.worksheet(\"RAW_DATA\")\n",
    "values=worksheet.get_all_values()\n",
    "df=pd.DataFrame.from_records(values)\n",
    "\n",
    "#Set the first row as the headers\n",
    "df.columns = df.iloc[0]\n",
    "#Select all the rows except the first one to create the DataFrame\n",
    "df = df.iloc[1:]\n",
    "\n",
    "#As I have the problem with the commas in the numbers, I transform the two columns that \n",
    "#I am gonna use to numeric and I replace the ',' for a '.'\n",
    "#The coerce replace any non-numeric values with 'NaN'\n",
    "df['dt_mins_1'] = pd.to_numeric(df['dt_mins_1'].str.replace(',', '.'), errors='coerce')\n",
    "df['dt_mins_0'] = pd.to_numeric(df['dt_mins_0'].str.replace(',', '.'), errors='coerce')\n",
    "\n",
    "#Filter by city and for when dt_mins_1 is greater than dt_mins_0. \n",
    "#Here I assume that dt_mins_0 is for the previous week of dt_mins_1\n",
    "df_ALA=df[(df['city_code']=='ALA')]\n",
    "df_final=df_ALA[(df_ALA['dt_mins_1'])>(df_ALA['dt_mins_0'])]\n",
    "\n",
    "#Finally, I print the result in my Google Sheet in the worksheet 'Output'\n",
    "gd.set_with_dataframe(sh.worksheet('Output'),df_final)"
   ]
  }
 ],
 "metadata": {
  "kernelspec": {
   "display_name": "Python 3",
   "language": "python",
   "name": "python3"
  },
  "language_info": {
   "codemirror_mode": {
    "name": "ipython",
    "version": 3
   },
   "file_extension": ".py",
   "mimetype": "text/x-python",
   "name": "python",
   "nbconvert_exporter": "python",
   "pygments_lexer": "ipython3",
   "version": "3.8.5"
  }
 },
 "nbformat": 4,
 "nbformat_minor": 4
}
